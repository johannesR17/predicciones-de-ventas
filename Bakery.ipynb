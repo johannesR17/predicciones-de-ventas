{
  "nbformat": 4,
  "nbformat_minor": 0,
  "metadata": {
    "colab": {
      "provenance": [],
      "authorship_tag": "ABX9TyO9EpOiakg9OTuhxpT0z9ev",
      "include_colab_link": true
    },
    "kernelspec": {
      "name": "python3",
      "display_name": "Python 3"
    },
    "language_info": {
      "name": "python"
    }
  },
  "cells": [
    {
      "cell_type": "markdown",
      "metadata": {
        "id": "view-in-github",
        "colab_type": "text"
      },
      "source": [
        "<a href=\"https://colab.research.google.com/github/johannesR17/predicciones-de-ventas/blob/main/Bakery.ipynb\" target=\"_parent\"><img src=\"https://colab.research.google.com/assets/colab-badge.svg\" alt=\"Open In Colab\"/></a>"
      ]
    },
    {
      "cell_type": "markdown",
      "source": [
        "# **CODING DOJO: Introducción a NumPy**\n",
        "## Creado por: Johannes Rodríguez\n",
        "\n",
        "* Fecha creado: 19/02/2023\n",
        "* Fecha de actualización: 19/02/2023\n",
        "* Descripción: este script perform the NumPy´s Bakery."
      ],
      "metadata": {
        "id": "_EiYO1Vj59rx"
      }
    },
    {
      "cell_type": "markdown",
      "source": [
        "1) ABRAN EL CUADERNO QUE CREARON DURANTE LA CLASE ANTERIOR: INTRODUCCIÓN A LOS ARRAYS DE NUMPY\n",
        "\n",
        "2) Actualicen el quantity_sold_array para incluir la venta de 2 tartas, 3 bandejas de dulces, 16 magdalenas y 5 panes de plátano. También se darán cuenta que una de las galletas que pensaron que se había vendido en realidad se cayó al suelo, así que editen quantity_sold_array de 40 a 39.\n",
        "\n",
        "3) Determinen la cantidad de dinero recaudado de la venta de cada elemento en la venta de la panadería.\n",
        "\n",
        "4) Creen un array de NumPy \"quantity_leftover\" que incluya la cantidad de cada elemento restante al final de la venta: 2 pasteles, 1 tarta, 6 bandejas de dulces, 2 panes de plátano. Pista: Asegúrense de incluir “0” de cada elemento que se haya vendido. ¿Por qué esto es importante cuando se crea un array?\n",
        "\n",
        "5) El club decide vender los elementos restantes a mitad de precio, y todo se venda rápidamente. Determinen cuanto dinero se recaudó de la venta de liquidación.\n",
        "\n",
        "6) ¿Cuánto dinero total se recaudó de la venta de panadería (incluido la venta del precio total y los elementos liquidados)?\n",
        "\n",
        "Pista: La respuesta final debería ser de $213.50, pero deben asegurarse de obtener esta respuesta con sus conocimientos de codificación de NumPy."
      ],
      "metadata": {
        "id": "NItTf0kk6DVD"
      }
    },
    {
      "cell_type": "markdown",
      "source": [
        "Question 1:"
      ],
      "metadata": {
        "id": "9qAU8nDV8znE"
      }
    },
    {
      "cell_type": "code",
      "execution_count": 1,
      "metadata": {
        "colab": {
          "base_uri": "https://localhost:8080/"
        },
        "id": "J9ep-bOO52k3",
        "outputId": "b67a4700-27cd-45e6-b767-da46c480bc96"
      },
      "outputs": [
        {
          "output_type": "execute_result",
          "data": {
            "text/plain": [
              "list"
            ]
          },
          "metadata": {},
          "execution_count": 1
        }
      ],
      "source": [
        "precio = [2, 1, 10]\n",
        "type(precio)"
      ]
    },
    {
      "cell_type": "code",
      "source": [
        "cantidad_vendida = [17, 40, 1]\n",
        "type(cantidad_vendida)"
      ],
      "metadata": {
        "colab": {
          "base_uri": "https://localhost:8080/"
        },
        "id": "a-Nc2y-66QPf",
        "outputId": "7be7ac72-b2ad-4245-ab43-e8d18873f337"
      },
      "execution_count": 2,
      "outputs": [
        {
          "output_type": "execute_result",
          "data": {
            "text/plain": [
              "list"
            ]
          },
          "metadata": {},
          "execution_count": 2
        }
      ]
    },
    {
      "cell_type": "code",
      "source": [
        "income = ['']\n",
        "type(income)"
      ],
      "metadata": {
        "colab": {
          "base_uri": "https://localhost:8080/"
        },
        "id": "0yagqKkgBysO",
        "outputId": "6f96fbcf-5aac-4e3e-db27-5d9feb8c41f8"
      },
      "execution_count": 3,
      "outputs": [
        {
          "output_type": "execute_result",
          "data": {
            "text/plain": [
              "list"
            ]
          },
          "metadata": {},
          "execution_count": 3
        }
      ]
    },
    {
      "cell_type": "code",
      "source": [
        "import numpy as np"
      ],
      "metadata": {
        "id": "zWJ5lZCR6Rqy"
      },
      "execution_count": 4,
      "outputs": []
    },
    {
      "cell_type": "code",
      "source": [
        "precio_array = np.array(precio)\n",
        "cantidad_vendida_array = np.array(cantidad_vendida)\n",
        "income_array = np.array(income)\n",
        "type(precio_array)\n",
        "type(cantidad_vendida_array)\n",
        "type(income_array)"
      ],
      "metadata": {
        "colab": {
          "base_uri": "https://localhost:8080/"
        },
        "id": "V3-DL49X6VME",
        "outputId": "5aea2dea-b9ca-432a-a413-e7c280b3e530"
      },
      "execution_count": 5,
      "outputs": [
        {
          "output_type": "execute_result",
          "data": {
            "text/plain": [
              "numpy.ndarray"
            ]
          },
          "metadata": {},
          "execution_count": 5
        }
      ]
    },
    {
      "cell_type": "code",
      "source": [
        "income_array = precio_array * cantidad_vendida_array\n",
        "print(income_array)"
      ],
      "metadata": {
        "colab": {
          "base_uri": "https://localhost:8080/"
        },
        "id": "8EFmq-rL6Ypl",
        "outputId": "fd792fe5-77fc-49dd-b8ec-d4593c1229d4"
      },
      "execution_count": 6,
      "outputs": [
        {
          "output_type": "stream",
          "name": "stdout",
          "text": [
            "[34 40 10]\n"
          ]
        }
      ]
    },
    {
      "cell_type": "code",
      "source": [
        "costo_array = np.array([0.25, 0.50, 5.00])"
      ],
      "metadata": {
        "id": "fEDB2OwP6c2H"
      },
      "execution_count": 7,
      "outputs": []
    },
    {
      "cell_type": "code",
      "source": [
        "ganancia_array = precio_array - costo_array\n",
        "print(ganancia_array)"
      ],
      "metadata": {
        "colab": {
          "base_uri": "https://localhost:8080/"
        },
        "id": "5k2qA7AP6gd1",
        "outputId": "5e454c48-5ad6-4df8-a74b-c30308f5efed"
      },
      "execution_count": 8,
      "outputs": [
        {
          "output_type": "stream",
          "name": "stdout",
          "text": [
            "[1.75 0.5  5.  ]\n"
          ]
        }
      ]
    },
    {
      "cell_type": "code",
      "source": [
        "ganancia_array > 2.00"
      ],
      "metadata": {
        "colab": {
          "base_uri": "https://localhost:8080/"
        },
        "id": "FMUkH0h36lIe",
        "outputId": "fbd74a48-d361-4591-85ee-64d2fdc6f37d"
      },
      "execution_count": 9,
      "outputs": [
        {
          "output_type": "execute_result",
          "data": {
            "text/plain": [
              "array([False, False,  True])"
            ]
          },
          "metadata": {},
          "execution_count": 9
        }
      ]
    },
    {
      "cell_type": "code",
      "source": [
        "precio_array = precio_array + [7]\n",
        "print(precio_array)"
      ],
      "metadata": {
        "colab": {
          "base_uri": "https://localhost:8080/"
        },
        "id": "gajTigih6pV1",
        "outputId": "5dc31c53-8b24-4a9e-db1c-be6847c99727"
      },
      "execution_count": 10,
      "outputs": [
        {
          "output_type": "stream",
          "name": "stdout",
          "text": [
            "[ 9  8 17]\n"
          ]
        }
      ]
    },
    {
      "cell_type": "code",
      "source": [
        "# Sólo fíjate el error\n",
        "precio_array = precio_array - [7]\n",
        "# La manera apropiada de adjuntar un elemento a un arreglo\n",
        "precio_array = np.append(precio_array, 7)\n",
        "print(precio_array)"
      ],
      "metadata": {
        "colab": {
          "base_uri": "https://localhost:8080/"
        },
        "id": "HjScuDb66uQH",
        "outputId": "4bea097e-fb16-4318-8ce1-2700326aa278"
      },
      "execution_count": 11,
      "outputs": [
        {
          "output_type": "stream",
          "name": "stdout",
          "text": [
            "[ 2  1 10  7]\n"
          ]
        }
      ]
    },
    {
      "cell_type": "code",
      "source": [
        "precio_array = np.append(precio_array, [4.50, 3, 4, 9])\n",
        "print(precio_array)"
      ],
      "metadata": {
        "colab": {
          "base_uri": "https://localhost:8080/"
        },
        "id": "Rj0-yyYR62Ya",
        "outputId": "1930c76c-6e94-49e9-d581-413cecd1656d"
      },
      "execution_count": 12,
      "outputs": [
        {
          "output_type": "stream",
          "name": "stdout",
          "text": [
            "[ 2.   1.  10.   7.   4.5  3.   4.   9. ]\n"
          ]
        }
      ]
    },
    {
      "cell_type": "code",
      "source": [
        "print(precio_array.dtype)"
      ],
      "metadata": {
        "colab": {
          "base_uri": "https://localhost:8080/"
        },
        "id": "_p1F5Mzl69oj",
        "outputId": "94df7a66-a172-414a-b684-09d49ee3ba6f"
      },
      "execution_count": 13,
      "outputs": [
        {
          "output_type": "stream",
          "name": "stdout",
          "text": [
            "float64\n"
          ]
        }
      ]
    },
    {
      "cell_type": "code",
      "source": [
        "precio_array = np.delete(precio_array, -1)\n",
        "print(precio_array)"
      ],
      "metadata": {
        "colab": {
          "base_uri": "https://localhost:8080/"
        },
        "id": "2dAHZF4T7BJd",
        "outputId": "ab532e27-8ec2-4cad-c5ad-fffe7124eee3"
      },
      "execution_count": 14,
      "outputs": [
        {
          "output_type": "stream",
          "name": "stdout",
          "text": [
            "[ 2.   1.  10.   7.   4.5  3.   4. ]\n"
          ]
        }
      ]
    },
    {
      "cell_type": "code",
      "source": [
        "precio_array[2] = 12\n",
        "print(precio_array)"
      ],
      "metadata": {
        "colab": {
          "base_uri": "https://localhost:8080/"
        },
        "id": "WR65nFDV7H7W",
        "outputId": "e9a6d8d7-f42e-4cea-e92e-9b54e9515121"
      },
      "execution_count": 15,
      "outputs": [
        {
          "output_type": "stream",
          "name": "stdout",
          "text": [
            "[ 2.   1.  12.   7.   4.5  3.   4. ]\n"
          ]
        }
      ]
    },
    {
      "cell_type": "markdown",
      "source": [
        "Questions 2-6:"
      ],
      "metadata": {
        "id": "CLHyWHdR9CDr"
      }
    },
    {
      "cell_type": "code",
      "source": [
        "cantidad_vendida_array = np.append(cantidad_vendida, [2, 3, 16, 5])\n",
        "print(cantidad_vendida_array)"
      ],
      "metadata": {
        "colab": {
          "base_uri": "https://localhost:8080/"
        },
        "id": "3MBuPZGb7RaH",
        "outputId": "51db079e-fcac-451c-a2ef-db1989a61434"
      },
      "execution_count": 16,
      "outputs": [
        {
          "output_type": "stream",
          "name": "stdout",
          "text": [
            "[17 40  1  2  3 16  5]\n"
          ]
        }
      ]
    },
    {
      "cell_type": "code",
      "source": [
        "cantidad_vendida_array[1] = 39\n",
        "print(cantidad_vendida_array)"
      ],
      "metadata": {
        "colab": {
          "base_uri": "https://localhost:8080/"
        },
        "id": "lYLdprK-9jjf",
        "outputId": "42b2570c-4f12-458d-b2fe-6fdd7da35a34"
      },
      "execution_count": 17,
      "outputs": [
        {
          "output_type": "stream",
          "name": "stdout",
          "text": [
            "[17 39  1  2  3 16  5]\n"
          ]
        }
      ]
    },
    {
      "cell_type": "code",
      "source": [
        "income2 = ['']\n",
        "type(income2)"
      ],
      "metadata": {
        "colab": {
          "base_uri": "https://localhost:8080/"
        },
        "id": "rshRAOUqC4dU",
        "outputId": "4c5fe101-5590-474f-a672-5b10a28b51bc"
      },
      "execution_count": 19,
      "outputs": [
        {
          "output_type": "execute_result",
          "data": {
            "text/plain": [
              "list"
            ]
          },
          "metadata": {},
          "execution_count": 19
        }
      ]
    },
    {
      "cell_type": "code",
      "source": [
        "income2_array = np.array(income2)\n",
        "type(income2_array)"
      ],
      "metadata": {
        "colab": {
          "base_uri": "https://localhost:8080/"
        },
        "id": "1wdEesrsC4SD",
        "outputId": "0a2dff83-6b09-4ed6-f0d6-4891d7c38957"
      },
      "execution_count": 20,
      "outputs": [
        {
          "output_type": "execute_result",
          "data": {
            "text/plain": [
              "numpy.ndarray"
            ]
          },
          "metadata": {},
          "execution_count": 20
        }
      ]
    },
    {
      "cell_type": "code",
      "source": [
        "income2_array = precio_array * cantidad_vendida_array\n",
        "print(income2_array)"
      ],
      "metadata": {
        "colab": {
          "base_uri": "https://localhost:8080/"
        },
        "id": "rZuyr4jZEoyK",
        "outputId": "338cfd3c-5157-411b-e31d-abb9a99b16c2"
      },
      "execution_count": 22,
      "outputs": [
        {
          "output_type": "stream",
          "name": "stdout",
          "text": [
            "[34.  39.  12.  14.  13.5 48.  20. ]\n"
          ]
        }
      ]
    },
    {
      "cell_type": "code",
      "source": [
        "cantidad_restante = [0, 0, 2, 1, 6, 0, 2]\n",
        "type(cantidad_restante)"
      ],
      "metadata": {
        "id": "8HhC2vZXE8go",
        "colab": {
          "base_uri": "https://localhost:8080/"
        },
        "outputId": "a8df25f8-d422-4e1b-f64c-c7771f25ccf5"
      },
      "execution_count": 23,
      "outputs": [
        {
          "output_type": "execute_result",
          "data": {
            "text/plain": [
              "list"
            ]
          },
          "metadata": {},
          "execution_count": 23
        }
      ]
    },
    {
      "cell_type": "code",
      "source": [
        "precio_variante = [2, 1, 6, 3.5, 2.25, 3, 2]\n",
        "type(precio_variante)"
      ],
      "metadata": {
        "id": "T_-O1j2PE9L3",
        "colab": {
          "base_uri": "https://localhost:8080/"
        },
        "outputId": "2991224d-bf86-4254-8072-3a499c6a2f43"
      },
      "execution_count": 24,
      "outputs": [
        {
          "output_type": "execute_result",
          "data": {
            "text/plain": [
              "list"
            ]
          },
          "metadata": {},
          "execution_count": 24
        }
      ]
    },
    {
      "cell_type": "code",
      "source": [
        "income3 = ['']\n",
        "type(income3)"
      ],
      "metadata": {
        "colab": {
          "base_uri": "https://localhost:8080/"
        },
        "id": "eL0B_PjwD7Po",
        "outputId": "63b21fa3-d9cb-47f9-ecb7-f52bf69e120a"
      },
      "execution_count": 26,
      "outputs": [
        {
          "output_type": "execute_result",
          "data": {
            "text/plain": [
              "list"
            ]
          },
          "metadata": {},
          "execution_count": 26
        }
      ]
    },
    {
      "cell_type": "code",
      "source": [
        "cantidad_restante_array = np.array(cantidad_restante)\n",
        "type(cantidad_restante_array)\n",
        "precio_variante_array = np.array(precio_variante)\n",
        "type(precio_variante_array)\n",
        "income3_array = np.array(income3)\n",
        "type(income3_array)"
      ],
      "metadata": {
        "colab": {
          "base_uri": "https://localhost:8080/"
        },
        "id": "uHS7r9TzDRoU",
        "outputId": "b626fbee-5e4e-4fb6-b14f-9357eaa49b93"
      },
      "execution_count": 27,
      "outputs": [
        {
          "output_type": "execute_result",
          "data": {
            "text/plain": [
              "numpy.ndarray"
            ]
          },
          "metadata": {},
          "execution_count": 27
        }
      ]
    },
    {
      "cell_type": "code",
      "source": [
        "income3_array = precio_variante_array * cantidad_restante_array\n",
        "print(income3_array)"
      ],
      "metadata": {
        "colab": {
          "base_uri": "https://localhost:8080/"
        },
        "id": "NpUXsmFSDues",
        "outputId": "2bc8d34f-853f-4fd2-8a02-d4421780a78a"
      },
      "execution_count": 28,
      "outputs": [
        {
          "output_type": "stream",
          "name": "stdout",
          "text": [
            "[ 0.   0.  12.   3.5 13.5  0.   4. ]\n"
          ]
        }
      ]
    },
    {
      "cell_type": "code",
      "source": [
        "revenues = np.sum([income2_array, income3_array])\n",
        "print(revenues)"
      ],
      "metadata": {
        "colab": {
          "base_uri": "https://localhost:8080/"
        },
        "id": "3VoH0bbRDuuM",
        "outputId": "35eed22c-ac99-4e33-a4d6-60a648fbf0b5"
      },
      "execution_count": 29,
      "outputs": [
        {
          "output_type": "stream",
          "name": "stdout",
          "text": [
            "213.5\n"
          ]
        }
      ]
    }
  ]
}